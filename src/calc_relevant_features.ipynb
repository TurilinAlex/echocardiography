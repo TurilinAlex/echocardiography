{
 "cells": [
  {
   "cell_type": "code",
   "execution_count": 1,
   "outputs": [],
   "source": [
    "import csv\n",
    "import os\n",
    "import warnings\n",
    "from typing import List, AnyStr\n",
    "\n",
    "import librosa\n",
    "import numpy as np\n",
    "import scipy.stats\n",
    "from tqdm import tqdm\n",
    "\n",
    "%matplotlib inline\n",
    "warnings.filterwarnings('ignore')"
   ],
   "metadata": {
    "collapsed": false
   }
  },
  {
   "cell_type": "code",
   "execution_count": 5,
   "outputs": [],
   "source": [
    "# parse normal and abnormal audio file path\n",
    "def parse_audio_path(_training_dir: str, _syb_dir: str) -> List[AnyStr]:\n",
    "    with open(f'{_training_dir}/{_syb_dir}/RECORDS-normal', 'r') as fn:\n",
    "        normal = fn.read().strip().split('\\n')\n",
    "        normal = list(map(lambda elem: f'{elem.strip()}.wav/1', normal))\n",
    "\n",
    "    with open(f'{training_dir}/{syb_dir}/RECORDS-abnormal', 'r') as fab:\n",
    "        abnormal = fab.read().strip().split('\\n')\n",
    "        abnormal = list(map(lambda elem: f'{elem.strip()}.wav/0', abnormal))\n",
    "\n",
    "    return normal + abnormal\n",
    "\n"
   ],
   "metadata": {
    "collapsed": false
   }
  },
  {
   "cell_type": "code",
   "execution_count": 6,
   "outputs": [],
   "source": [
    "def extract_features(_training_dir: str, _syb_dir: str, _file_path: str, _label: int) -> List[float]:\n",
    "    _path = f'{_training_dir}/{_syb_dir}/{_file_path}'\n",
    "    y, sr = librosa.load(_path, mono=True, duration=5)\n",
    "\n",
    "    audio_description = [f'/{syb_dir}/{file_path}']\n",
    "    audio_description.extend([np.mean(e) for e in librosa.feature.mfcc(y=y, sr=sr, n_mfcc=20)])  # mfcc_mean<0..20>\n",
    "    audio_description.extend([np.std(e) for e in librosa.feature.mfcc(y=y, sr=sr, n_mfcc=20)])  # mfcc_std<0..20>\n",
    "\n",
    "    audio_description.append(np.mean(librosa.feature.spectral_centroid(y=y, sr=sr).T, axis=0)[0])  # cent_mean\n",
    "    audio_description.append(np.std(librosa.feature.spectral_centroid(y=y, sr=sr).T, axis=0)[0])  # cent_std\n",
    "    audio_description.append(scipy.stats.skew(librosa.feature.spectral_centroid(y=y, sr=sr).T, axis=0)[0])  # cent_skew\n",
    "    audio_description.append(np.mean(librosa.feature.spectral_rolloff(y=y, sr=sr).T, axis=0)[0])  # rolloff_mean\n",
    "    audio_description.append(np.std(librosa.feature.spectral_rolloff(y=y, sr=sr).T, axis=0)[0])  # rolloff_std\n",
    "    audio_description.append(_label)\n",
    "    return audio_description"
   ],
   "metadata": {
    "collapsed": false
   }
  },
  {
   "cell_type": "code",
   "execution_count": 7,
   "outputs": [
    {
     "name": "stdout",
     "output_type": "stream",
     "text": [
      "../data_training/ ['training-b', 'training-e', 'training-d', 'training-c', 'training-f', 'training-a']\n",
      "training-b  "
     ]
    },
    {
     "name": "stderr",
     "output_type": "stream",
     "text": [
      "100%|██████████| 490/490 [00:20<00:00, 23.51it/s]\n"
     ]
    },
    {
     "name": "stdout",
     "output_type": "stream",
     "text": [
      "Volume valid audio: 490, recorded rows in file: 490\n",
      "training-e  "
     ]
    },
    {
     "name": "stderr",
     "output_type": "stream",
     "text": [
      "100%|██████████| 2141/2141 [01:25<00:00, 25.11it/s]\n"
     ]
    },
    {
     "name": "stdout",
     "output_type": "stream",
     "text": [
      "Volume valid audio: 2141, recorded rows in file: 2141\n",
      "training-d  "
     ]
    },
    {
     "name": "stderr",
     "output_type": "stream",
     "text": [
      "100%|██████████| 55/55 [00:02<00:00, 24.96it/s]\n"
     ]
    },
    {
     "name": "stdout",
     "output_type": "stream",
     "text": [
      "Volume valid audio: 55, recorded rows in file: 55\n",
      "training-c  "
     ]
    },
    {
     "name": "stderr",
     "output_type": "stream",
     "text": [
      "100%|██████████| 31/31 [00:01<00:00, 24.55it/s]\n"
     ]
    },
    {
     "name": "stdout",
     "output_type": "stream",
     "text": [
      "Volume valid audio: 31, recorded rows in file: 31\n",
      "training-f  "
     ]
    },
    {
     "name": "stderr",
     "output_type": "stream",
     "text": [
      "100%|██████████| 114/114 [00:04<00:00, 24.74it/s]\n"
     ]
    },
    {
     "name": "stdout",
     "output_type": "stream",
     "text": [
      "Volume valid audio: 114, recorded rows in file: 114\n",
      "training-a  "
     ]
    },
    {
     "name": "stderr",
     "output_type": "stream",
     "text": [
      "100%|██████████| 409/409 [00:16<00:00, 24.51it/s]"
     ]
    },
    {
     "name": "stdout",
     "output_type": "stream",
     "text": [
      "Volume valid audio: 409, recorded rows in file: 409\n",
      "Analysis completed successfully, analyzed: 3240 files, written rows: 3240\n"
     ]
    },
    {
     "name": "stderr",
     "output_type": "stream",
     "text": [
      "\n"
     ]
    }
   ],
   "source": [
    "buffer = []\n",
    "count_audio = 0\n",
    "count_rows = 0\n",
    "\n",
    "path = '../data_training/'\n",
    "training_dir, training_syb_dir, _ = next(os.walk(path))\n",
    "print(training_dir, training_syb_dir)\n",
    "\n",
    "# Создание заголовка для файла CSV.\n",
    "header = ['filename']\n",
    "header.extend([f'mfcc_mean{i}' for i in range(1, 21)])\n",
    "header.extend([f'mfcc_std{i}' for i in range(1, 21)])\n",
    "header.extend(['cent_mean', 'cent_std', 'cent_skew', 'rolloff_mean', 'rolloff_std', 'label'])\n",
    "\n",
    "with open('../data_feature/dataset_metrics.csv', 'w', newline='') as file:\n",
    "    writer = csv.writer(file, delimiter=',')\n",
    "    writer.writerow(header)\n",
    "    for syb_dir in training_syb_dir:\n",
    "\n",
    "        audio_paths = parse_audio_path(training_dir, syb_dir)\n",
    "        print(syb_dir, end=\"  \")\n",
    "        buffer_counter = 0\n",
    "\n",
    "        for file_path in tqdm(audio_paths):\n",
    "            file, label = file_path.split('/')\n",
    "            features = extract_features(training_dir, syb_dir, file, label)\n",
    "            buffer.append(features)\n",
    "            if buffer:\n",
    "                writer.writerows(buffer)\n",
    "                buffer_counter += 1\n",
    "            buffer = []\n",
    "\n",
    "        print(f'Volume valid audio: {len(audio_paths)}, recorded rows in file: {buffer_counter}')\n",
    "        count_audio += len(audio_paths)\n",
    "        count_rows += buffer_counter\n",
    "\n",
    "print(f'Analysis completed successfully, analyzed: {count_audio} files, written rows: {count_rows}')"
   ],
   "metadata": {
    "collapsed": false
   }
  }
 ],
 "metadata": {
  "kernelspec": {
   "display_name": "Python 3 (ipykernel)",
   "language": "python",
   "name": "python3"
  },
  "language_info": {
   "codemirror_mode": {
    "name": "ipython",
    "version": 3
   },
   "file_extension": ".py",
   "mimetype": "text/x-python",
   "name": "python",
   "nbconvert_exporter": "python",
   "pygments_lexer": "ipython3",
   "version": "3.8.10"
  }
 },
 "nbformat": 4,
 "nbformat_minor": 1
}
