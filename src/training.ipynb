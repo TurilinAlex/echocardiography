{
 "cells": [
  {
   "cell_type": "code",
   "execution_count": 26,
   "metadata": {
    "collapsed": true
   },
   "outputs": [],
   "source": [
    "import matplotlib.pyplot as plt\n",
    "import pandas as pd\n",
    "import seaborn as sn\n",
    "from sklearn import preprocessing, svm, metrics\n",
    "from sklearn.metrics import classification_report, confusion_matrix\n",
    "from sklearn.model_selection import train_test_split\n"
   ]
  },
  {
   "cell_type": "code",
   "execution_count": 2,
   "outputs": [
    {
     "data": {
      "text/plain": "                   filename  mfcc_mean1  mfcc_mean2  mfcc_mean3  mfcc_mean4  \\\n0     /training-d/d0001.wav  -591.75350   82.091070   67.843445   49.894085   \n1     /training-d/d0005.wav  -507.09525   67.730225   57.149704   44.678590   \n2     /training-d/d0006.wav  -545.63403   89.320910   65.648690   38.477776   \n3     /training-d/d0007.wav  -607.59064   91.373920   65.053825   34.857006   \n4     /training-d/d0013.wav  -544.76650   96.625725   76.556984   50.929790   \n...                     ...         ...         ...         ...         ...   \n3235  /training-c/c0026.wav  -428.58817  102.994520   83.483580   58.944180   \n3236  /training-c/c0027.wav  -421.48254   85.190216   70.748300   52.903490   \n3237  /training-c/c0028.wav  -614.11597   82.512550   66.827520   47.552708   \n3238  /training-c/c0029.wav  -642.32104   77.797280   62.501420   44.933530   \n3239  /training-c/c0031.wav  -602.70060   63.613407   54.420586   43.103416   \n\n      mfcc_mean5  mfcc_mean6  mfcc_mean7  mfcc_mean8  mfcc_mean9  ...  \\\n0      33.601643   22.410803   16.887587   15.087091   14.140226  ...   \n1      33.273678   25.339853   21.129091   19.163834   17.521276  ...   \n2      17.254759    8.089881   10.203353   17.670960   23.343868  ...   \n3      11.730544    2.085066    4.822889   13.126289   19.198210  ...   \n4      27.650232   12.248447    6.014502    6.408118    9.213740  ...   \n...          ...         ...         ...         ...         ...  ...   \n3235   36.895410   22.302310   16.205944   16.087700   17.739510  ...   \n3236   35.930805   23.636429   17.168913   15.146887   14.906868  ...   \n3237   31.237417   21.875937   19.527122   21.099289   22.575205  ...   \n3238   30.244774   22.130783   20.522167   22.560946   24.389542  ...   \n3239   33.168560   26.639688   23.666374   22.906748   22.407187  ...   \n\n      mfcc_std17  mfcc_std18  mfcc_std19  mfcc_std20   cent_mean    cent_std  \\\n0       2.632784    2.559604    2.661890    2.653193   44.950066   28.459766   \n1       3.176032    2.934937    3.054459    3.193361   50.408951   86.743325   \n2       2.857877    2.068982    2.385970    2.887991   47.845277   77.096545   \n3       5.465324    4.156095    3.817671    3.656302  222.266615  322.141297   \n4       4.433519    3.627293    2.752674    2.413492  114.935788   47.487979   \n...          ...         ...         ...         ...         ...         ...   \n3235    4.404895    4.112625    3.938263    3.802121   67.251696   28.084677   \n3236    3.716602    2.929726    2.771507    3.003178   67.046619   81.961862   \n3237    3.572683    3.190578    3.572617    3.737370   54.462628   34.224511   \n3238    3.896949    3.565084    3.561258    3.516206   47.239924   96.196586   \n3239    3.050167    2.743259    2.758176    2.904601   53.032038   62.585522   \n\n      cent_skew  rolloff_mean  rolloff_std  label  \n0      8.082388     57.222493    30.281057      1  \n1      9.888983     72.824097   150.780405      1  \n2     10.219800     53.633626   122.074088      1  \n3      2.561563    334.612020   415.251257      1  \n4      3.571830    230.734253   114.920731      1  \n...         ...           ...          ...    ...  \n3235   2.978014    111.853027    59.601734      0  \n3236  10.263444    109.759521   158.757238      0  \n3237   3.193401     84.537760    69.201183      0  \n3238  10.342948     70.531209   190.141444      0  \n3239   9.929522     77.908325    96.112423      0  \n\n[3240 rows x 47 columns]",
      "text/html": "<div>\n<style scoped>\n    .dataframe tbody tr th:only-of-type {\n        vertical-align: middle;\n    }\n\n    .dataframe tbody tr th {\n        vertical-align: top;\n    }\n\n    .dataframe thead th {\n        text-align: right;\n    }\n</style>\n<table border=\"1\" class=\"dataframe\">\n  <thead>\n    <tr style=\"text-align: right;\">\n      <th></th>\n      <th>filename</th>\n      <th>mfcc_mean1</th>\n      <th>mfcc_mean2</th>\n      <th>mfcc_mean3</th>\n      <th>mfcc_mean4</th>\n      <th>mfcc_mean5</th>\n      <th>mfcc_mean6</th>\n      <th>mfcc_mean7</th>\n      <th>mfcc_mean8</th>\n      <th>mfcc_mean9</th>\n      <th>...</th>\n      <th>mfcc_std17</th>\n      <th>mfcc_std18</th>\n      <th>mfcc_std19</th>\n      <th>mfcc_std20</th>\n      <th>cent_mean</th>\n      <th>cent_std</th>\n      <th>cent_skew</th>\n      <th>rolloff_mean</th>\n      <th>rolloff_std</th>\n      <th>label</th>\n    </tr>\n  </thead>\n  <tbody>\n    <tr>\n      <th>0</th>\n      <td>/training-d/d0001.wav</td>\n      <td>-591.75350</td>\n      <td>82.091070</td>\n      <td>67.843445</td>\n      <td>49.894085</td>\n      <td>33.601643</td>\n      <td>22.410803</td>\n      <td>16.887587</td>\n      <td>15.087091</td>\n      <td>14.140226</td>\n      <td>...</td>\n      <td>2.632784</td>\n      <td>2.559604</td>\n      <td>2.661890</td>\n      <td>2.653193</td>\n      <td>44.950066</td>\n      <td>28.459766</td>\n      <td>8.082388</td>\n      <td>57.222493</td>\n      <td>30.281057</td>\n      <td>1</td>\n    </tr>\n    <tr>\n      <th>1</th>\n      <td>/training-d/d0005.wav</td>\n      <td>-507.09525</td>\n      <td>67.730225</td>\n      <td>57.149704</td>\n      <td>44.678590</td>\n      <td>33.273678</td>\n      <td>25.339853</td>\n      <td>21.129091</td>\n      <td>19.163834</td>\n      <td>17.521276</td>\n      <td>...</td>\n      <td>3.176032</td>\n      <td>2.934937</td>\n      <td>3.054459</td>\n      <td>3.193361</td>\n      <td>50.408951</td>\n      <td>86.743325</td>\n      <td>9.888983</td>\n      <td>72.824097</td>\n      <td>150.780405</td>\n      <td>1</td>\n    </tr>\n    <tr>\n      <th>2</th>\n      <td>/training-d/d0006.wav</td>\n      <td>-545.63403</td>\n      <td>89.320910</td>\n      <td>65.648690</td>\n      <td>38.477776</td>\n      <td>17.254759</td>\n      <td>8.089881</td>\n      <td>10.203353</td>\n      <td>17.670960</td>\n      <td>23.343868</td>\n      <td>...</td>\n      <td>2.857877</td>\n      <td>2.068982</td>\n      <td>2.385970</td>\n      <td>2.887991</td>\n      <td>47.845277</td>\n      <td>77.096545</td>\n      <td>10.219800</td>\n      <td>53.633626</td>\n      <td>122.074088</td>\n      <td>1</td>\n    </tr>\n    <tr>\n      <th>3</th>\n      <td>/training-d/d0007.wav</td>\n      <td>-607.59064</td>\n      <td>91.373920</td>\n      <td>65.053825</td>\n      <td>34.857006</td>\n      <td>11.730544</td>\n      <td>2.085066</td>\n      <td>4.822889</td>\n      <td>13.126289</td>\n      <td>19.198210</td>\n      <td>...</td>\n      <td>5.465324</td>\n      <td>4.156095</td>\n      <td>3.817671</td>\n      <td>3.656302</td>\n      <td>222.266615</td>\n      <td>322.141297</td>\n      <td>2.561563</td>\n      <td>334.612020</td>\n      <td>415.251257</td>\n      <td>1</td>\n    </tr>\n    <tr>\n      <th>4</th>\n      <td>/training-d/d0013.wav</td>\n      <td>-544.76650</td>\n      <td>96.625725</td>\n      <td>76.556984</td>\n      <td>50.929790</td>\n      <td>27.650232</td>\n      <td>12.248447</td>\n      <td>6.014502</td>\n      <td>6.408118</td>\n      <td>9.213740</td>\n      <td>...</td>\n      <td>4.433519</td>\n      <td>3.627293</td>\n      <td>2.752674</td>\n      <td>2.413492</td>\n      <td>114.935788</td>\n      <td>47.487979</td>\n      <td>3.571830</td>\n      <td>230.734253</td>\n      <td>114.920731</td>\n      <td>1</td>\n    </tr>\n    <tr>\n      <th>...</th>\n      <td>...</td>\n      <td>...</td>\n      <td>...</td>\n      <td>...</td>\n      <td>...</td>\n      <td>...</td>\n      <td>...</td>\n      <td>...</td>\n      <td>...</td>\n      <td>...</td>\n      <td>...</td>\n      <td>...</td>\n      <td>...</td>\n      <td>...</td>\n      <td>...</td>\n      <td>...</td>\n      <td>...</td>\n      <td>...</td>\n      <td>...</td>\n      <td>...</td>\n      <td>...</td>\n    </tr>\n    <tr>\n      <th>3235</th>\n      <td>/training-c/c0026.wav</td>\n      <td>-428.58817</td>\n      <td>102.994520</td>\n      <td>83.483580</td>\n      <td>58.944180</td>\n      <td>36.895410</td>\n      <td>22.302310</td>\n      <td>16.205944</td>\n      <td>16.087700</td>\n      <td>17.739510</td>\n      <td>...</td>\n      <td>4.404895</td>\n      <td>4.112625</td>\n      <td>3.938263</td>\n      <td>3.802121</td>\n      <td>67.251696</td>\n      <td>28.084677</td>\n      <td>2.978014</td>\n      <td>111.853027</td>\n      <td>59.601734</td>\n      <td>0</td>\n    </tr>\n    <tr>\n      <th>3236</th>\n      <td>/training-c/c0027.wav</td>\n      <td>-421.48254</td>\n      <td>85.190216</td>\n      <td>70.748300</td>\n      <td>52.903490</td>\n      <td>35.930805</td>\n      <td>23.636429</td>\n      <td>17.168913</td>\n      <td>15.146887</td>\n      <td>14.906868</td>\n      <td>...</td>\n      <td>3.716602</td>\n      <td>2.929726</td>\n      <td>2.771507</td>\n      <td>3.003178</td>\n      <td>67.046619</td>\n      <td>81.961862</td>\n      <td>10.263444</td>\n      <td>109.759521</td>\n      <td>158.757238</td>\n      <td>0</td>\n    </tr>\n    <tr>\n      <th>3237</th>\n      <td>/training-c/c0028.wav</td>\n      <td>-614.11597</td>\n      <td>82.512550</td>\n      <td>66.827520</td>\n      <td>47.552708</td>\n      <td>31.237417</td>\n      <td>21.875937</td>\n      <td>19.527122</td>\n      <td>21.099289</td>\n      <td>22.575205</td>\n      <td>...</td>\n      <td>3.572683</td>\n      <td>3.190578</td>\n      <td>3.572617</td>\n      <td>3.737370</td>\n      <td>54.462628</td>\n      <td>34.224511</td>\n      <td>3.193401</td>\n      <td>84.537760</td>\n      <td>69.201183</td>\n      <td>0</td>\n    </tr>\n    <tr>\n      <th>3238</th>\n      <td>/training-c/c0029.wav</td>\n      <td>-642.32104</td>\n      <td>77.797280</td>\n      <td>62.501420</td>\n      <td>44.933530</td>\n      <td>30.244774</td>\n      <td>22.130783</td>\n      <td>20.522167</td>\n      <td>22.560946</td>\n      <td>24.389542</td>\n      <td>...</td>\n      <td>3.896949</td>\n      <td>3.565084</td>\n      <td>3.561258</td>\n      <td>3.516206</td>\n      <td>47.239924</td>\n      <td>96.196586</td>\n      <td>10.342948</td>\n      <td>70.531209</td>\n      <td>190.141444</td>\n      <td>0</td>\n    </tr>\n    <tr>\n      <th>3239</th>\n      <td>/training-c/c0031.wav</td>\n      <td>-602.70060</td>\n      <td>63.613407</td>\n      <td>54.420586</td>\n      <td>43.103416</td>\n      <td>33.168560</td>\n      <td>26.639688</td>\n      <td>23.666374</td>\n      <td>22.906748</td>\n      <td>22.407187</td>\n      <td>...</td>\n      <td>3.050167</td>\n      <td>2.743259</td>\n      <td>2.758176</td>\n      <td>2.904601</td>\n      <td>53.032038</td>\n      <td>62.585522</td>\n      <td>9.929522</td>\n      <td>77.908325</td>\n      <td>96.112423</td>\n      <td>0</td>\n    </tr>\n  </tbody>\n</table>\n<p>3240 rows × 47 columns</p>\n</div>"
     },
     "execution_count": 2,
     "metadata": {},
     "output_type": "execute_result"
    }
   ],
   "source": [
    "data = pd.read_csv('../data_feature/dataset_metrics.csv')\n",
    "data"
   ],
   "metadata": {
    "collapsed": false
   }
  },
  {
   "cell_type": "code",
   "execution_count": 3,
   "outputs": [
    {
     "data": {
      "text/plain": "1    2575\n0     665\nName: label, dtype: int64"
     },
     "execution_count": 3,
     "metadata": {},
     "output_type": "execute_result"
    }
   ],
   "source": [
    "data['label'].value_counts()"
   ],
   "metadata": {
    "collapsed": false
   }
  },
  {
   "cell_type": "code",
   "execution_count": 4,
   "outputs": [
    {
     "data": {
      "text/plain": "array([1, 1, 1, ..., 0, 0, 0])"
     },
     "execution_count": 4,
     "metadata": {},
     "output_type": "execute_result"
    }
   ],
   "source": [
    "Y = data['label'].values\n",
    "Y"
   ],
   "metadata": {
    "collapsed": false
   }
  },
  {
   "cell_type": "code",
   "execution_count": 5,
   "outputs": [
    {
     "data": {
      "text/plain": "Index(['filename', 'mfcc_mean1', 'mfcc_mean2', 'mfcc_mean3', 'mfcc_mean4',\n       'mfcc_mean5', 'mfcc_mean6', 'mfcc_mean7', 'mfcc_mean8', 'mfcc_mean9',\n       'mfcc_mean10', 'mfcc_mean11', 'mfcc_mean12', 'mfcc_mean13',\n       'mfcc_mean14', 'mfcc_mean15', 'mfcc_mean16', 'mfcc_mean17',\n       'mfcc_mean18', 'mfcc_mean19', 'mfcc_mean20', 'mfcc_std1', 'mfcc_std2',\n       'mfcc_std3', 'mfcc_std4', 'mfcc_std5', 'mfcc_std6', 'mfcc_std7',\n       'mfcc_std8', 'mfcc_std9', 'mfcc_std10', 'mfcc_std11', 'mfcc_std12',\n       'mfcc_std13', 'mfcc_std14', 'mfcc_std15', 'mfcc_std16', 'mfcc_std17',\n       'mfcc_std18', 'mfcc_std19', 'mfcc_std20', 'cent_mean', 'cent_std',\n       'cent_skew', 'rolloff_mean', 'rolloff_std', 'label'],\n      dtype='object')"
     },
     "execution_count": 5,
     "metadata": {},
     "output_type": "execute_result"
    }
   ],
   "source": [
    "index = data.columns\n",
    "index"
   ],
   "metadata": {
    "collapsed": false
   }
  },
  {
   "cell_type": "code",
   "execution_count": 6,
   "outputs": [
    {
     "data": {
      "text/plain": "      mfcc_mean1  mfcc_mean2  mfcc_mean3  mfcc_mean4  mfcc_mean5  mfcc_mean6  \\\n0     -591.75350   82.091070   67.843445   49.894085   33.601643   22.410803   \n1     -507.09525   67.730225   57.149704   44.678590   33.273678   25.339853   \n2     -545.63403   89.320910   65.648690   38.477776   17.254759    8.089881   \n3     -607.59064   91.373920   65.053825   34.857006   11.730544    2.085066   \n4     -544.76650   96.625725   76.556984   50.929790   27.650232   12.248447   \n...          ...         ...         ...         ...         ...         ...   \n3235  -428.58817  102.994520   83.483580   58.944180   36.895410   22.302310   \n3236  -421.48254   85.190216   70.748300   52.903490   35.930805   23.636429   \n3237  -614.11597   82.512550   66.827520   47.552708   31.237417   21.875937   \n3238  -642.32104   77.797280   62.501420   44.933530   30.244774   22.130783   \n3239  -602.70060   63.613407   54.420586   43.103416   33.168560   26.639688   \n\n      mfcc_mean7  mfcc_mean8  mfcc_mean9  mfcc_mean10  ...  mfcc_std16  \\\n0      16.887587   15.087091   14.140226    12.096580  ...    2.573930   \n1      21.129091   19.163834   17.521276    14.956534  ...    3.194003   \n2      10.203353   17.670960   23.343868    23.018225  ...    3.013264   \n3       4.822889   13.126289   19.198210    18.733303  ...    5.552763   \n4       6.014502    6.408118    9.213740    11.035639  ...    4.305134   \n...          ...         ...         ...          ...  ...         ...   \n3235   16.205944   16.087700   17.739510    17.716394  ...    4.597452   \n3236   17.168913   15.146887   14.906868    14.006060  ...    4.258563   \n3237   19.527122   21.099289   22.575205    21.311369  ...    3.631171   \n3238   20.522167   22.560946   24.389542    23.403660  ...    4.069523   \n3239   23.666374   22.906748   22.407187    20.712156  ...    3.171235   \n\n      mfcc_std17  mfcc_std18  mfcc_std19  mfcc_std20   cent_mean    cent_std  \\\n0       2.632784    2.559604    2.661890    2.653193   44.950066   28.459766   \n1       3.176032    2.934937    3.054459    3.193361   50.408951   86.743325   \n2       2.857877    2.068982    2.385970    2.887991   47.845277   77.096545   \n3       5.465324    4.156095    3.817671    3.656302  222.266615  322.141297   \n4       4.433519    3.627293    2.752674    2.413492  114.935788   47.487979   \n...          ...         ...         ...         ...         ...         ...   \n3235    4.404895    4.112625    3.938263    3.802121   67.251696   28.084677   \n3236    3.716602    2.929726    2.771507    3.003178   67.046619   81.961862   \n3237    3.572683    3.190578    3.572617    3.737370   54.462628   34.224511   \n3238    3.896949    3.565084    3.561258    3.516206   47.239924   96.196586   \n3239    3.050167    2.743259    2.758176    2.904601   53.032038   62.585522   \n\n      cent_skew  rolloff_mean  rolloff_std  \n0      8.082388     57.222493    30.281057  \n1      9.888983     72.824097   150.780405  \n2     10.219800     53.633626   122.074088  \n3      2.561563    334.612020   415.251257  \n4      3.571830    230.734253   114.920731  \n...         ...           ...          ...  \n3235   2.978014    111.853027    59.601734  \n3236  10.263444    109.759521   158.757238  \n3237   3.193401     84.537760    69.201183  \n3238  10.342948     70.531209   190.141444  \n3239   9.929522     77.908325    96.112423  \n\n[3240 rows x 45 columns]",
      "text/html": "<div>\n<style scoped>\n    .dataframe tbody tr th:only-of-type {\n        vertical-align: middle;\n    }\n\n    .dataframe tbody tr th {\n        vertical-align: top;\n    }\n\n    .dataframe thead th {\n        text-align: right;\n    }\n</style>\n<table border=\"1\" class=\"dataframe\">\n  <thead>\n    <tr style=\"text-align: right;\">\n      <th></th>\n      <th>mfcc_mean1</th>\n      <th>mfcc_mean2</th>\n      <th>mfcc_mean3</th>\n      <th>mfcc_mean4</th>\n      <th>mfcc_mean5</th>\n      <th>mfcc_mean6</th>\n      <th>mfcc_mean7</th>\n      <th>mfcc_mean8</th>\n      <th>mfcc_mean9</th>\n      <th>mfcc_mean10</th>\n      <th>...</th>\n      <th>mfcc_std16</th>\n      <th>mfcc_std17</th>\n      <th>mfcc_std18</th>\n      <th>mfcc_std19</th>\n      <th>mfcc_std20</th>\n      <th>cent_mean</th>\n      <th>cent_std</th>\n      <th>cent_skew</th>\n      <th>rolloff_mean</th>\n      <th>rolloff_std</th>\n    </tr>\n  </thead>\n  <tbody>\n    <tr>\n      <th>0</th>\n      <td>-591.75350</td>\n      <td>82.091070</td>\n      <td>67.843445</td>\n      <td>49.894085</td>\n      <td>33.601643</td>\n      <td>22.410803</td>\n      <td>16.887587</td>\n      <td>15.087091</td>\n      <td>14.140226</td>\n      <td>12.096580</td>\n      <td>...</td>\n      <td>2.573930</td>\n      <td>2.632784</td>\n      <td>2.559604</td>\n      <td>2.661890</td>\n      <td>2.653193</td>\n      <td>44.950066</td>\n      <td>28.459766</td>\n      <td>8.082388</td>\n      <td>57.222493</td>\n      <td>30.281057</td>\n    </tr>\n    <tr>\n      <th>1</th>\n      <td>-507.09525</td>\n      <td>67.730225</td>\n      <td>57.149704</td>\n      <td>44.678590</td>\n      <td>33.273678</td>\n      <td>25.339853</td>\n      <td>21.129091</td>\n      <td>19.163834</td>\n      <td>17.521276</td>\n      <td>14.956534</td>\n      <td>...</td>\n      <td>3.194003</td>\n      <td>3.176032</td>\n      <td>2.934937</td>\n      <td>3.054459</td>\n      <td>3.193361</td>\n      <td>50.408951</td>\n      <td>86.743325</td>\n      <td>9.888983</td>\n      <td>72.824097</td>\n      <td>150.780405</td>\n    </tr>\n    <tr>\n      <th>2</th>\n      <td>-545.63403</td>\n      <td>89.320910</td>\n      <td>65.648690</td>\n      <td>38.477776</td>\n      <td>17.254759</td>\n      <td>8.089881</td>\n      <td>10.203353</td>\n      <td>17.670960</td>\n      <td>23.343868</td>\n      <td>23.018225</td>\n      <td>...</td>\n      <td>3.013264</td>\n      <td>2.857877</td>\n      <td>2.068982</td>\n      <td>2.385970</td>\n      <td>2.887991</td>\n      <td>47.845277</td>\n      <td>77.096545</td>\n      <td>10.219800</td>\n      <td>53.633626</td>\n      <td>122.074088</td>\n    </tr>\n    <tr>\n      <th>3</th>\n      <td>-607.59064</td>\n      <td>91.373920</td>\n      <td>65.053825</td>\n      <td>34.857006</td>\n      <td>11.730544</td>\n      <td>2.085066</td>\n      <td>4.822889</td>\n      <td>13.126289</td>\n      <td>19.198210</td>\n      <td>18.733303</td>\n      <td>...</td>\n      <td>5.552763</td>\n      <td>5.465324</td>\n      <td>4.156095</td>\n      <td>3.817671</td>\n      <td>3.656302</td>\n      <td>222.266615</td>\n      <td>322.141297</td>\n      <td>2.561563</td>\n      <td>334.612020</td>\n      <td>415.251257</td>\n    </tr>\n    <tr>\n      <th>4</th>\n      <td>-544.76650</td>\n      <td>96.625725</td>\n      <td>76.556984</td>\n      <td>50.929790</td>\n      <td>27.650232</td>\n      <td>12.248447</td>\n      <td>6.014502</td>\n      <td>6.408118</td>\n      <td>9.213740</td>\n      <td>11.035639</td>\n      <td>...</td>\n      <td>4.305134</td>\n      <td>4.433519</td>\n      <td>3.627293</td>\n      <td>2.752674</td>\n      <td>2.413492</td>\n      <td>114.935788</td>\n      <td>47.487979</td>\n      <td>3.571830</td>\n      <td>230.734253</td>\n      <td>114.920731</td>\n    </tr>\n    <tr>\n      <th>...</th>\n      <td>...</td>\n      <td>...</td>\n      <td>...</td>\n      <td>...</td>\n      <td>...</td>\n      <td>...</td>\n      <td>...</td>\n      <td>...</td>\n      <td>...</td>\n      <td>...</td>\n      <td>...</td>\n      <td>...</td>\n      <td>...</td>\n      <td>...</td>\n      <td>...</td>\n      <td>...</td>\n      <td>...</td>\n      <td>...</td>\n      <td>...</td>\n      <td>...</td>\n      <td>...</td>\n    </tr>\n    <tr>\n      <th>3235</th>\n      <td>-428.58817</td>\n      <td>102.994520</td>\n      <td>83.483580</td>\n      <td>58.944180</td>\n      <td>36.895410</td>\n      <td>22.302310</td>\n      <td>16.205944</td>\n      <td>16.087700</td>\n      <td>17.739510</td>\n      <td>17.716394</td>\n      <td>...</td>\n      <td>4.597452</td>\n      <td>4.404895</td>\n      <td>4.112625</td>\n      <td>3.938263</td>\n      <td>3.802121</td>\n      <td>67.251696</td>\n      <td>28.084677</td>\n      <td>2.978014</td>\n      <td>111.853027</td>\n      <td>59.601734</td>\n    </tr>\n    <tr>\n      <th>3236</th>\n      <td>-421.48254</td>\n      <td>85.190216</td>\n      <td>70.748300</td>\n      <td>52.903490</td>\n      <td>35.930805</td>\n      <td>23.636429</td>\n      <td>17.168913</td>\n      <td>15.146887</td>\n      <td>14.906868</td>\n      <td>14.006060</td>\n      <td>...</td>\n      <td>4.258563</td>\n      <td>3.716602</td>\n      <td>2.929726</td>\n      <td>2.771507</td>\n      <td>3.003178</td>\n      <td>67.046619</td>\n      <td>81.961862</td>\n      <td>10.263444</td>\n      <td>109.759521</td>\n      <td>158.757238</td>\n    </tr>\n    <tr>\n      <th>3237</th>\n      <td>-614.11597</td>\n      <td>82.512550</td>\n      <td>66.827520</td>\n      <td>47.552708</td>\n      <td>31.237417</td>\n      <td>21.875937</td>\n      <td>19.527122</td>\n      <td>21.099289</td>\n      <td>22.575205</td>\n      <td>21.311369</td>\n      <td>...</td>\n      <td>3.631171</td>\n      <td>3.572683</td>\n      <td>3.190578</td>\n      <td>3.572617</td>\n      <td>3.737370</td>\n      <td>54.462628</td>\n      <td>34.224511</td>\n      <td>3.193401</td>\n      <td>84.537760</td>\n      <td>69.201183</td>\n    </tr>\n    <tr>\n      <th>3238</th>\n      <td>-642.32104</td>\n      <td>77.797280</td>\n      <td>62.501420</td>\n      <td>44.933530</td>\n      <td>30.244774</td>\n      <td>22.130783</td>\n      <td>20.522167</td>\n      <td>22.560946</td>\n      <td>24.389542</td>\n      <td>23.403660</td>\n      <td>...</td>\n      <td>4.069523</td>\n      <td>3.896949</td>\n      <td>3.565084</td>\n      <td>3.561258</td>\n      <td>3.516206</td>\n      <td>47.239924</td>\n      <td>96.196586</td>\n      <td>10.342948</td>\n      <td>70.531209</td>\n      <td>190.141444</td>\n    </tr>\n    <tr>\n      <th>3239</th>\n      <td>-602.70060</td>\n      <td>63.613407</td>\n      <td>54.420586</td>\n      <td>43.103416</td>\n      <td>33.168560</td>\n      <td>26.639688</td>\n      <td>23.666374</td>\n      <td>22.906748</td>\n      <td>22.407187</td>\n      <td>20.712156</td>\n      <td>...</td>\n      <td>3.171235</td>\n      <td>3.050167</td>\n      <td>2.743259</td>\n      <td>2.758176</td>\n      <td>2.904601</td>\n      <td>53.032038</td>\n      <td>62.585522</td>\n      <td>9.929522</td>\n      <td>77.908325</td>\n      <td>96.112423</td>\n    </tr>\n  </tbody>\n</table>\n<p>3240 rows × 45 columns</p>\n</div>"
     },
     "execution_count": 6,
     "metadata": {},
     "output_type": "execute_result"
    }
   ],
   "source": [
    "X = data[index[1:-1]]\n",
    "X"
   ],
   "metadata": {
    "collapsed": false
   }
  },
  {
   "cell_type": "code",
   "execution_count": 7,
   "outputs": [
    {
     "data": {
      "text/plain": "array([[-1.67469524, -0.97216505, -0.75812012, ...,  0.67799882,\n        -1.10948402, -1.40275274],\n       [-0.45136294, -1.39653864, -1.32865474, ...,  1.16086265,\n        -1.00828158,  0.01112465],\n       [-1.00825768, -0.75851793, -0.87521513, ...,  1.24928307,\n        -1.13276382, -0.32570052],\n       ...,\n       [-1.99783837, -0.95971   , -0.81232195, ..., -0.62872217,\n        -0.93229892, -0.94608399],\n       [-2.40540849, -1.09904972, -1.04312891, ...,  1.28219771,\n        -1.02315478,  0.47296684],\n       [-1.8328835 , -1.51819365, -1.47425919, ...,  1.17169786,\n        -0.97530187, -0.63032134]])"
     },
     "execution_count": 7,
     "metadata": {},
     "output_type": "execute_result"
    }
   ],
   "source": [
    "X = preprocessing.StandardScaler().fit(X).fit_transform(X)\n",
    "X"
   ],
   "metadata": {
    "collapsed": false
   }
  },
  {
   "cell_type": "code",
   "execution_count": 52,
   "outputs": [
    {
     "name": "stdout",
     "output_type": "stream",
     "text": [
      "Train set: (2592, 45) (2592,)\n",
      "Test set: (648, 45) (648,)\n"
     ]
    }
   ],
   "source": [
    "\n",
    "X_train, X_test, y_train, y_test = train_test_split(X, Y, test_size=0.20, random_state=1234)\n",
    "\n",
    "print('Train set:', X_train.shape, y_train.shape)\n",
    "print('Test set:', X_test.shape, y_test.shape)\n",
    "\n",
    "clf = svm.SVC(kernel='rbf', C=1, gamma=0.1)\n",
    "clf.fit(X_train, y_train)\n",
    "y_predict = clf.predict(X_test)"
   ],
   "metadata": {
    "collapsed": false
   }
  },
  {
   "cell_type": "code",
   "execution_count": 53,
   "outputs": [
    {
     "name": "stdout",
     "output_type": "stream",
     "text": [
      "Prediction: [1 0 1 1 0 1 1 1 1 1 1 1 0 0 1 1 1 0 1 1 1 1 1 1 1 1 1 1 1 1 1 1 1 1 1]\n",
      "Real Value: [1 0 1 1 1 1 1 1 1 1 1 1 0 0 1 0 1 1 1 1 1 1 1 0 1 1 0 1 1 1 1 1 1 1 1]\n"
     ]
    }
   ],
   "source": [
    "print(\"Prediction:\", y_predict[:35])\n",
    "print(\"Real Value:\", y_test[:35])"
   ],
   "metadata": {
    "collapsed": false
   }
  },
  {
   "cell_type": "code",
   "execution_count": 80,
   "outputs": [
    {
     "name": "stdout",
     "output_type": "stream",
     "text": [
      "Train set Accuracy:  0.972608024691358\n",
      "Test set Accuracy:  0.9305555555555556\n"
     ]
    }
   ],
   "source": [
    "print(\"Train set Accuracy: \", metrics.accuracy_score(y_train, clf.predict(X_train)))\n",
    "print(\"Test set Accuracy: \", metrics.accuracy_score(y_test, y_predict))"
   ],
   "metadata": {
    "collapsed": false
   }
  },
  {
   "cell_type": "code",
   "execution_count": 81,
   "outputs": [
    {
     "name": "stdout",
     "output_type": "stream",
     "text": [
      "CONFUSION_MATRIX :\n",
      "[[ 79  37]\n",
      " [  8 524]]\n",
      "\n",
      "REPORT\n",
      "              precision    recall  f1-score   support\n",
      "\n",
      "           0       0.91      0.68      0.78       116\n",
      "           1       0.93      0.98      0.96       532\n",
      "\n",
      "    accuracy                           0.93       648\n",
      "   macro avg       0.92      0.83      0.87       648\n",
      "weighted avg       0.93      0.93      0.93       648\n",
      "\n"
     ]
    }
   ],
   "source": [
    "print('CONFUSION_MATRIX :')\n",
    "print(confusion_matrix(y_test, y_predict))\n",
    "print()\n",
    "print('REPORT')\n",
    "print(classification_report(y_test, y_predict))"
   ],
   "metadata": {
    "collapsed": false
   }
  },
  {
   "cell_type": "code",
   "execution_count": 82,
   "outputs": [
    {
     "data": {
      "text/plain": "Text(42.0, 0.5, 'Truth')"
     },
     "execution_count": 82,
     "metadata": {},
     "output_type": "execute_result"
    },
    {
     "data": {
      "text/plain": "<Figure size 504x504 with 2 Axes>",
      "image/png": "[encoded data removed]"
     },
     "metadata": {},
     "output_type": "display_data"
    }
   ],
   "source": [
    "cm = confusion_matrix(y_test, y_predict)\n",
    "plt.figure(figsize=(7,7))\n",
    "sn.heatmap(cm,annot=True)\n",
    "plt.xlabel('Predicted')\n",
    "plt.ylabel('Truth')"
   ],
   "metadata": {
    "collapsed": false
   }
  },
  {
   "cell_type": "code",
   "execution_count": 83,
   "outputs": [],
   "source": [
    "\n",
    "\n",
    "# Подгонка гиперпараметров модели"
   ],
   "metadata": {
    "collapsed": false
   }
  },
  {
   "cell_type": "code",
   "execution_count": null,
   "outputs": [],
   "source": [
    "from sklearn.model_selection import GridSearchCV\n",
    "\n",
    "# определение диапазона параметров\n",
    "param_grid = {'C': [0.0001, 0.001, 0.01, 0.1, 1, 10, 100, 1000],\n",
    "              'gamma': [0.0001, 0.001, 0.01, 0.1, 1, 10, 100, 1000],\n",
    "              'kernel': ['linear', 'rbf', 'poly']}\n",
    "\n",
    "grid = GridSearchCV(svm.SVC(), param_grid, refit=True, verbose=3)\n",
    "\n",
    "# подгонка модели для поиска по сетке\n",
    "grid.fit(X_train, y_train)"
   ],
   "metadata": {
    "collapsed": false,
    "pycharm": {
     "is_executing": true
    }
   }
  },
  {
   "cell_type": "code",
   "execution_count": null,
   "outputs": [],
   "source": [
    "# вывести лучший параметр после настройки\n",
    "print(grid.best_params_)\n",
    "\n",
    "# напечатать, как выглядит наша модель после настройки гиперпараметров\n",
    "print(grid.best_estimator_)"
   ],
   "metadata": {
    "collapsed": false
   }
  },
  {
   "cell_type": "code",
   "execution_count": 50,
   "outputs": [
    {
     "name": "stdout",
     "output_type": "stream",
     "text": [
      "              precision    recall  f1-score   support\n",
      "\n",
      "           0       0.91      0.68      0.78       116\n",
      "           1       0.93      0.98      0.96       532\n",
      "\n",
      "    accuracy                           0.93       648\n",
      "   macro avg       0.92      0.83      0.87       648\n",
      "weighted avg       0.93      0.93      0.93       648\n",
      "\n"
     ]
    }
   ],
   "source": [
    "grid_predictions = grid.predict(X_test)\n",
    "\n",
    "# печать отчета о классификации\n",
    "print(classification_report(y_test, grid_predictions))"
   ],
   "metadata": {
    "collapsed": false
   }
  },
  {
   "cell_type": "code",
   "execution_count": 51,
   "outputs": [
    {
     "name": "stdout",
     "output_type": "stream",
     "text": [
      "Train set Accuracy:  0.972608024691358\n",
      "Test set Accuracy:  0.9305555555555556\n"
     ]
    }
   ],
   "source": [
    "print(\"Train set Accuracy: \", metrics.accuracy_score(y_train, grid.predict(X_train)))\n",
    "print(\"Test set Accuracy: \", metrics.accuracy_score(y_test, grid_predictions))"
   ],
   "metadata": {
    "collapsed": false
   }
  }
 ],
 "metadata": {
  "kernelspec": {
   "display_name": "Python 3",
   "language": "python",
   "name": "python3"
  },
  "language_info": {
   "codemirror_mode": {
    "name": "ipython",
    "version": 2
   },
   "file_extension": ".py",
   "mimetype": "text/x-python",
   "name": "python",
   "nbconvert_exporter": "python",
   "pygments_lexer": "ipython2",
   "version": "2.7.6"
  }
 },
 "nbformat": 4,
 "nbformat_minor": 0
}
